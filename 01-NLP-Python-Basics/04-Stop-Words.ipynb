{
 "cells": [
  {
   "cell_type": "markdown",
   "metadata": {},
   "source": [
    "___\n",
    "\n",
    "<a href='http://www.pieriandata.com'> <img src='../Pierian_Data_Logo.png' /></a>\n",
    "___"
   ]
  },
  {
   "cell_type": "markdown",
   "metadata": {},
   "source": [
    "# Stop Words\n",
    "Words like \"a\" and \"the\" appear so frequently that they don't require tagging as thoroughly as nouns, verbs and modifiers. We call these *stop words*, and they can be filtered from the text to be processed. spaCy holds a built-in list of some 305 English stop words."
   ]
  },
  {
   "cell_type": "code",
   "execution_count": 1,
   "metadata": {},
   "outputs": [],
   "source": [
    "# Perform standard imports:\n",
    "import spacy\n",
    "nlp = spacy.load('en_core_web_sm')"
   ]
  },
  {
   "cell_type": "code",
   "execution_count": 2,
   "metadata": {},
   "outputs": [
    {
     "name": "stdout",
     "output_type": "stream",
     "text": [
      "{'herself', 'nine', 'beside', 'side', 'whereas', 'through', 'give', 'sometimes', \"'ve\", 'doing', 'hereby', 'many', 'between', 'fifty', 'more', 'might', 'after', 'wherein', 'besides', 'really', 'mostly', 'either', 'she', 'whose', 'another', 'here', 'but', 'already', 'whole', 'too', 'an', 'someone', 'had', 'done', 'hers', 'whether', 'be', 'only', 'back', \"'ll\", 'with', 'at', 'just', 'can', 'noone', '‘s', 'its', 'or', '‘d', 'now', '’s', 'did', 'move', 'upon', 'until', 'whoever', 'other', 'down', 'ours', 'call', '’ll', 'whenever', 'throughout', 'then', 'perhaps', 'say', 'off', 'a', 'we', 'something', 'twelve', 'elsewhere', 'nevertheless', 'do', 'during', 'never', 'once', 'of', 'when', \"n't\", 'almost', 'next', 'among', 'am', 'so', 'somewhere', 'eight', 'put', 'along', 'hence', 'else', 'above', 'behind', 'indeed', 'front', 'how', 'becomes', 'why', '’d', 'eleven', 'via', 'their', 'have', 'show', 'onto', 'every', 'my', 'not', 'whereby', 'some', 'if', 'against', 'most', 'hereafter', 'several', 'although', 'on', 'up', 'anyone', 'even', 'very', 'i', 'his', 'what', 'beyond', 'quite', 'name', 'though', 'myself', 'various', 'go', 'is', 'again', 'afterwards', 'seeming', 'former', \"'s\", 'formerly', 'was', 'whereupon', 'amongst', 'still', 'top', 'all', 'it', 'must', 'enough', 'everything', 'first', 'third', 'bottom', 'none', \"'m\", 'also', 'beforehand', 'hundred', 'themselves', 'sometime', '’ve', 'yours', 'full', '‘ll', 'five', 'ten', \"'re\", 'could', 'these', 'no', 'over', 'been', '‘m', 'that', 'n‘t', 'there', 'using', 'which', 'below', 'each', 'cannot', 'seemed', 'nowhere', 'three', 'under', 'thereafter', 'becoming', 'rather', 'six', 'unless', 'about', 'least', 'our', 'for', 'otherwise', 'seem', 'has', 'thru', 'both', 'across', 'seems', 'around', 'while', 'see', 'before', 'were', 'whatever', 'any', 'should', 'they', 'anyway', 'take', 'due', 'within', 'everywhere', 'please', 'anywhere', 'who', 'forty', 'per', 'by', 'toward', 'will', 'her', 'since', 'itself', 'may', 'than', '’re', 'from', 'whence', 'this', 'being', 'become', 'less', 'them', 'mine', 'four', 'became', 'everyone', 'thence', 'moreover', 'himself', 'last', 'would', 'therefore', 'twenty', '’m', 'thus', 'whither', 'out', 'n’t', 'fifteen', 'as', 'except', 'latter', 'yet', 'neither', 'him', 'two', 'such', 'in', 'anything', 'those', 'ever', 'well', 'hereupon', 'used', 'however', 'empty', 'your', 'whereafter', 'where', 'towards', 'to', 'always', 'same', 'me', 'latterly', 'often', 'own', 'further', 'and', 'serious', 'herein', 'he', 'few', 'much', '‘re', 'nor', 'ca', 'therein', 'nobody', 'thereby', 'nothing', 'anyhow', 'one', 'without', 're', 'us', 'make', 'yourselves', 'the', 'are', 'into', 'namely', 'wherever', 'ourselves', 'get', 'made', 'keep', 'because', 'others', 'regarding', '‘ve', 'alone', 'does', 'meanwhile', 'thereupon', 'yourself', 'whom', \"'d\", 'somehow', 'you', 'together', 'sixty', 'part', 'amount'}\n"
     ]
    }
   ],
   "source": [
    "# Print the set of spaCy's default stop words (remember that sets are unordered):\n",
    "print(nlp.Defaults.stop_words)"
   ]
  },
  {
   "cell_type": "code",
   "execution_count": 3,
   "metadata": {},
   "outputs": [
    {
     "data": {
      "text/plain": [
       "326"
      ]
     },
     "execution_count": 3,
     "metadata": {},
     "output_type": "execute_result"
    }
   ],
   "source": [
    "len(nlp.Defaults.stop_words)"
   ]
  },
  {
   "cell_type": "code",
   "execution_count": 4,
   "metadata": {},
   "outputs": [
    {
     "data": {
      "text/plain": [
       "326"
      ]
     },
     "execution_count": 4,
     "metadata": {},
     "output_type": "execute_result"
    }
   ],
   "source": [
    "nlp_lg = spacy.load('en_core_web_lg')\n",
    "len(nlp_lg.Defaults.stop_words)"
   ]
  },
  {
   "cell_type": "markdown",
   "metadata": {},
   "source": [
    "## To see if a word is a stop word"
   ]
  },
  {
   "cell_type": "code",
   "execution_count": 5,
   "metadata": {},
   "outputs": [
    {
     "data": {
      "text/plain": [
       "True"
      ]
     },
     "execution_count": 5,
     "metadata": {},
     "output_type": "execute_result"
    }
   ],
   "source": [
    "nlp.vocab['myself'].is_stop"
   ]
  },
  {
   "cell_type": "code",
   "execution_count": 6,
   "metadata": {},
   "outputs": [
    {
     "data": {
      "text/plain": [
       "False"
      ]
     },
     "execution_count": 6,
     "metadata": {},
     "output_type": "execute_result"
    }
   ],
   "source": [
    "nlp.vocab['mystery'].is_stop"
   ]
  },
  {
   "cell_type": "markdown",
   "metadata": {},
   "source": [
    "## To add a stop word\n",
    "There may be times when you wish to add a stop word to the default set. Perhaps you decide that `'btw'` (common shorthand for \"by the way\") should be considered a stop word."
   ]
  },
  {
   "cell_type": "code",
   "execution_count": 7,
   "metadata": {},
   "outputs": [],
   "source": [
    "# Add the word to the set of stop words. Use lowercase!\n",
    "nlp.Defaults.stop_words.add('btw')\n",
    "\n",
    "# Set the stop_word tag on the lexeme\n",
    "nlp.vocab['btw'].is_stop = True"
   ]
  },
  {
   "cell_type": "code",
   "execution_count": 8,
   "metadata": {},
   "outputs": [
    {
     "data": {
      "text/plain": [
       "327"
      ]
     },
     "execution_count": 8,
     "metadata": {},
     "output_type": "execute_result"
    }
   ],
   "source": [
    "len(nlp.Defaults.stop_words)"
   ]
  },
  {
   "cell_type": "code",
   "execution_count": 9,
   "metadata": {},
   "outputs": [
    {
     "data": {
      "text/plain": [
       "True"
      ]
     },
     "execution_count": 9,
     "metadata": {},
     "output_type": "execute_result"
    }
   ],
   "source": [
    "nlp_lg.vocab['btw'].is_stop"
   ]
  },
  {
   "cell_type": "code",
   "execution_count": 10,
   "metadata": {},
   "outputs": [
    {
     "data": {
      "text/plain": [
       "327"
      ]
     },
     "execution_count": 10,
     "metadata": {},
     "output_type": "execute_result"
    }
   ],
   "source": [
    "len(nlp_lg.Defaults.stop_words)"
   ]
  },
  {
   "cell_type": "markdown",
   "metadata": {},
   "source": [
    "<font color=green>When adding stop words, always use lowercase. Lexemes are converted to lowercase before being added to **vocab**.</font>"
   ]
  },
  {
   "cell_type": "markdown",
   "metadata": {},
   "source": [
    "## To remove a stop word\n",
    "Alternatively, you may decide that `'beyond'` should not be considered a stop word."
   ]
  },
  {
   "cell_type": "code",
   "execution_count": 11,
   "metadata": {},
   "outputs": [],
   "source": [
    "# Remove the word from the set of stop words\n",
    "nlp.Defaults.stop_words.remove('beyond')\n",
    "\n",
    "# Remove the stop_word tag from the lexeme\n",
    "nlp.vocab['beyond'].is_stop = False"
   ]
  },
  {
   "cell_type": "code",
   "execution_count": 12,
   "metadata": {},
   "outputs": [
    {
     "data": {
      "text/plain": [
       "326"
      ]
     },
     "execution_count": 12,
     "metadata": {},
     "output_type": "execute_result"
    }
   ],
   "source": [
    "len(nlp.Defaults.stop_words)"
   ]
  },
  {
   "cell_type": "code",
   "execution_count": 13,
   "metadata": {},
   "outputs": [
    {
     "data": {
      "text/plain": [
       "False"
      ]
     },
     "execution_count": 13,
     "metadata": {},
     "output_type": "execute_result"
    }
   ],
   "source": [
    "nlp.vocab['beyond'].is_stop"
   ]
  },
  {
   "cell_type": "markdown",
   "metadata": {},
   "source": [
    "Great! Now you should be able to access spaCy's default set of stop words, and add or remove stop words as needed.\n",
    "## Next up: Vocabulary and Matching"
   ]
  }
 ],
 "metadata": {
  "kernelspec": {
   "display_name": "Python 3.8.10 ('env': venv)",
   "language": "python",
   "name": "python3"
  },
  "language_info": {
   "codemirror_mode": {
    "name": "ipython",
    "version": 3
   },
   "file_extension": ".py",
   "mimetype": "text/x-python",
   "name": "python",
   "nbconvert_exporter": "python",
   "pygments_lexer": "ipython3",
   "version": "3.8.10"
  },
  "vscode": {
   "interpreter": {
    "hash": "46894d5b4143d036f40e5de1aae65d8c892cf523f20f9a4787b311cf95683d77"
   }
  }
 },
 "nbformat": 4,
 "nbformat_minor": 2
}
